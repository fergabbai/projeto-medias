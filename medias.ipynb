{
  "nbformat": 4,
  "nbformat_minor": 0,
  "metadata": {
    "colab": {
      "provenance": [],
      "authorship_tag": "ABX9TyMgOMeQdFc1Eyfsy8EK6p7W",
      "include_colab_link": true
    },
    "kernelspec": {
      "name": "python3",
      "display_name": "Python 3"
    },
    "language_info": {
      "name": "python"
    }
  },
  "cells": [
    {
      "cell_type": "markdown",
      "metadata": {
        "id": "view-in-github",
        "colab_type": "text"
      },
      "source": [
        "<a href=\"https://colab.research.google.com/github/fergabbai/projeto-medias/blob/main/Untitled0.ipynb\" target=\"_parent\"><img src=\"https://colab.research.google.com/assets/colab-badge.svg\" alt=\"Open In Colab\"/></a>"
      ]
    },
    {
      "cell_type": "markdown",
      "source": [
        "# O PROJETO\n",
        "## Este projeto consiste em um programa no qual o usuário insere as notas dos alunos (quantas desejar) e escolhe a média que deseja calcular:\n",
        "### **Aritmética, Ponderada ou Harmonica**\n",
        "## Obs: Para facilitar para o usuário, o programa arredonda todas as notas inseridas para duas casas decimais."
      ],
      "metadata": {
        "id": "1on2m--_As_6"
      }
    },
    {
      "cell_type": "markdown",
      "source": [
        "#### O programa inicia com laço de repetição (Laço 1), e são criadas duas variáveis, Notas e Pesos, como listas vazias."
      ],
      "metadata": {
        "id": "8zteDPLa8do3"
      }
    },
    {
      "cell_type": "code",
      "execution_count": null,
      "metadata": {
        "id": "DrUEbxG95dyM"
      },
      "outputs": [],
      "source": [
        "while True:\n",
        "  notas = []\n",
        "  pesos = []"
      ]
    },
    {
      "cell_type": "markdown",
      "source": [
        "#### São criadas 3 funções para calcular as médias que serão solicitadas a seguir:\n",
        "\n",
        "#### Aritmética: \n",
        "##### Calcula a soma das notas e divide pela quantidade de notas inseridas.\n",
        "#### Ponderada:\n",
        "##### Primeiramente multiplica a nota pelo seu respectivo peso, que será solicitado a frente, soma os resultados e divide pela soma dos pesos.\n",
        "#### Harmonica:\n",
        "##### Primeiramente soma os inversos das notas, em seguida divide a quantidade de notas pela soma dos inversos."
      ],
      "metadata": {
        "id": "C89mC0qh9PJu"
      }
    },
    {
      "cell_type": "code",
      "source": [
        "  def calcular_aritmetica(notas):\n",
        "    return sum(notas)/len(notas)\n",
        "  \n",
        "  def calcular_ponderada(notas):\n",
        "    soma_notas = sum(nota*peso for nota, peso in zip(notas, pesos))\n",
        "    soma_pesos = sum(pesos)\n",
        "    return soma_notas / soma_pesos\n",
        "\n",
        "  def calcular_harmonica(notas):\n",
        "    soma_inversos = sum(1/nota for nota in notas)\n",
        "    return len(notas) / soma_inversos"
      ],
      "metadata": {
        "id": "ApnYH52r53x7"
      },
      "execution_count": null,
      "outputs": []
    },
    {
      "cell_type": "markdown",
      "source": [
        "#### São criados mais dois laços de repetição (Laço 2 e Laço 3).\n",
        "#### No laço 3, solicita ao usuário que insira a nota do aluno. Logo após imprime essa nota **arredondando para duas casa decimais** e pergunta ao usuário se ele confirma a nota. Caso a resposta seja **Não**, ele solicita novamente a nota. Caso seja **Sim** o laço 3 é encerrado.\n",
        "#### No laço 2, após a nota inserida ser confirmada, o programa pergunta ao usuário se ele deseja inserir uma nova nota. Caso a resposta seja **Sim**, o programa solicita uma nova nota, voltando ao Laço 2. Caso a resposta seja **Não**, o Laço 2 é encerrado."
      ],
      "metadata": {
        "id": "oKT4xxY8-rVu"
      }
    },
    {
      "cell_type": "code",
      "source": [
        "  while True:\n",
        "    while True:\n",
        "      nota = float(input('Insira a nota do aluno: '))\n",
        "      notas.append(nota)\n",
        "\n",
        "      confirmar = int(input('Nota: {:.2f}\\nConfirmar nota? (1-Sim 2-Nao): '.format(nota)))\n",
        "      if confirmar == 1:\n",
        "        break\n",
        "\n",
        "    resposta = int(input('Inserir nova nota? (1-Sim 2-Nao): '))\n",
        "    if resposta == 2:\n",
        "      break"
      ],
      "metadata": {
        "id": "XnI-6YTd6ibz"
      },
      "execution_count": null,
      "outputs": []
    },
    {
      "cell_type": "markdown",
      "source": [
        "#### O programa solicita ao usuário qual média ele deseja calcular:\n",
        "##### 1 - Aritmética\n",
        "##### 2 - Ponderada\n",
        "##### 3 - Harmonica\n",
        "#### De acordo com a opção escolhida, o programa calcula a média usando a respectiva função definida acima, e imprime a média do aluno.\n"
      ],
      "metadata": {
        "id": "wVkKYVmC_vch"
      }
    },
    {
      "cell_type": "code",
      "source": [
        "  calculo = int(input('Qual media deseja calcular? (1-Aritmetica 2-Ponderada 3-Harmonica): '))\n",
        "\n",
        "  if calculo == 1:\n",
        "    media = calcular_aritmetica(notas)\n",
        "        print(\"A média aritmética é {:.2f}\".format(media))\n",
        "\n",
        "    elif calculo == 2:\n",
        "        while len(pesos) != len(notas):\n",
        "            peso = float(input(\"Digite o peso para a nota {}: \".format(len(pesos) + 1)))\n",
        "            pesos.append(peso)\n",
        "        media = calcular_ponderada(notas, pesos)\n",
        "        print(\"A média ponderada é {:.2f}\".format(media))\n",
        "\n",
        "    elif calculo == 3:\n",
        "        media = calcular_harmonica(notas)\n",
        "        print(\"A média harmonica é {:.2f}\".format(media))\n",
        "\n",
        "    else:\n",
        "        print('Opcao inválida!\\nQual media deseja calcular? (1-Aritmetica 2-Ponderada 3-Harmonica): ')"
      ],
      "metadata": {
        "id": "9gKNxG117kDf"
      },
      "execution_count": null,
      "outputs": []
    },
    {
      "cell_type": "markdown",
      "source": [
        "#### Feito o cálculo da média escolhida, o programa pergunta ao usuário se ele deseja iniciar um novo cálculo. Caso a resposta seja **Sim**, o programa é iniciado totalmente. Caso a resposta seja **Não**, o Laço 1 é encerrado juntamente com o programa."
      ],
      "metadata": {
        "id": "bh836SwTAXVF"
      }
    },
    {
      "cell_type": "code",
      "source": [
        "  nova_resposta = int(input('Novo calculo? (1-Sim 2-Nao): '))\n",
        "\n",
        "  if nova_resposta == 2:\n",
        "    break"
      ],
      "metadata": {
        "id": "gpTaaKAF8R_O"
      },
      "execution_count": null,
      "outputs": []
    }
  ]
}
